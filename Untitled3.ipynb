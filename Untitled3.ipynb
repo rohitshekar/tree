{
  "nbformat": 4,
  "nbformat_minor": 0,
  "metadata": {
    "colab": {
      "provenance": [],
      "collapsed_sections": [],
      "authorship_tag": "ABX9TyNSVnihbPTfudzNH6VM2yao",
      "include_colab_link": true
    },
    "kernelspec": {
      "name": "python3",
      "display_name": "Python 3"
    },
    "language_info": {
      "name": "python"
    }
  },
  "cells": [
    {
      "cell_type": "markdown",
      "metadata": {
        "id": "view-in-github",
        "colab_type": "text"
      },
      "source": [
        "<a href=\"https://colab.research.google.com/github/rohitshekar/tree/blob/main/Untitled3.ipynb\" target=\"_parent\"><img src=\"https://colab.research.google.com/assets/colab-badge.svg\" alt=\"Open In Colab\"/></a>"
      ]
    },
    {
      "cell_type": "code",
      "execution_count": null,
      "metadata": {
        "id": "yUNJRz32K7nk",
        "colab": {
          "base_uri": "https://localhost:8080/"
        },
        "outputId": "ce90f1eb-5042-4e7d-f855-81e3aae0afed"
      },
      "outputs": [
        {
          "output_type": "stream",
          "name": "stdout",
          "text": [
            "The sub array shold moved 6 positions\n",
            "CPU times: user 1.02 ms, sys: 0 ns, total: 1.02 ms\n",
            "Wall time: 1.03 ms\n"
          ]
        }
      ],
      "source": [
        "%%time\n",
        "a=[5,6,7,8,9,10,1,1,1,1,1,1,1,2,3,4]\n",
        "def repeat(a,pos):\n",
        "  while True:\n",
        "   if(a[pos]==a[pos-1]):\n",
        "    pos-=1\n",
        "    return pos\n",
        "   elif(a[pos]!=a[pos-1]):\n",
        "    return pos\n",
        "    break   \n",
        "start=0\n",
        "end=len(a)-1\n",
        "while True:\n",
        " mid=(start+end)//2\n",
        " if (a[mid]<a[mid-1]):\n",
        "   mid=repeat(a,mid)\n",
        "   print(f\"The sub array shold moved {mid} positions\")\n",
        "   break\n",
        " elif (a[mid]>a[end]):\n",
        "   start=mid\n",
        " elif (a[mid]<a[end]):\n",
        "   end=mid"
      ]
    },
    {
      "cell_type": "code",
      "source": [
        "#binary tree\n",
        "class Tree:\n",
        "  def __init__(self,key):\n",
        "    self.key=key\n",
        "    self.left=None\n",
        "    self.right=None"
      ],
      "metadata": {
        "id": "eNlsKxPRtZ9O"
      },
      "execution_count": null,
      "outputs": []
    },
    {
      "cell_type": "code",
      "source": [
        "node1=Tree(10)\n",
        "node2=Tree(5)\n",
        "node3=Tree(15)\n",
        "node4=Tree(4)\n",
        "node5=Tree(6)\n",
        "node6=Tree(11)\n",
        "node7=Tree(16)\n"
      ],
      "metadata": {
        "id": "Vm_wyncYouEf"
      },
      "execution_count": null,
      "outputs": []
    },
    {
      "cell_type": "code",
      "source": [
        "tree=node1\n",
        "tree.left=node2\n",
        "tree.right=node3\n",
        "node2.left=node4\n",
        "node2.right=node5\n",
        "node3.left=node6\n",
        "node3.right=node7"
      ],
      "metadata": {
        "id": "YhhccLXR4bMA"
      },
      "execution_count": null,
      "outputs": []
    },
    {
      "cell_type": "code",
      "source": [
        "#exercise\n",
        "class Tree:\n",
        "  def __init__(self,key):\n",
        "    self.key=key\n",
        "    self.left=None\n",
        "    self.right=None\n",
        "node0=Tree(2)\n",
        "node0.left=Tree(3)\n",
        "node0.right=Tree(None)\n",
        "node0.left.left=Tree(1)\n",
        "node0.left.right=Tree(None)\n",
        "node0.right=Tree(5)\n",
        "node0.right.left=Tree(3)\n",
        "node0.right.right=Tree(7)\n",
        "node0.right.left.left=None\n",
        "node0.right.left.right=Tree(4)\n",
        "node0.right.right.left=Tree(6)\n",
        "node0.right.right.right=Tree(8)\n"
      ],
      "metadata": {
        "id": "tQiR8aSl4qd7"
      },
      "execution_count": null,
      "outputs": []
    },
    {
      "cell_type": "code",
      "source": [
        "def parse_tup(data):\n",
        "  if isinstance(data,tuple) and len(data)==3:\n",
        "    node=Tree(data[1])\n",
        "    node.left=Tree(data[0])\n",
        "    node.right=Tree(data[2])\n",
        "    print(data[0],data[1],data[2])\n",
        "  elif data is None:\n",
        "    node=None\n",
        "  else:\n",
        "    node=Tree(data)\n",
        "  return node\n"
      ],
      "metadata": {
        "id": "C_KYn4427kLw"
      },
      "execution_count": null,
      "outputs": []
    },
    {
      "cell_type": "code",
      "source": [
        "def parse_tuple(data):\n",
        "    # print(data)\n",
        "    if isinstance(data, tuple) and len(data) == 3:\n",
        "        node = Tree(data[1])\n",
        "        node.left = parse_tuple(data[0])\n",
        "        node.right = parse_tuple(data[2])\n",
        "        print(data,parse_tuple(data[1]),parse_tuple(data[2]))\n",
        "    elif data is None:\n",
        "        node = None\n",
        "    else:\n",
        "        node = Tree(data)\n",
        "    return node"
      ],
      "metadata": {
        "id": "cfIxkaluJqWd"
      },
      "execution_count": null,
      "outputs": []
    },
    {
      "cell_type": "code",
      "source": [
        "tree_tuple = ((1,3,None), 2, ((None, 3, 4), 5, (6, 7, 8)))\n",
        "tree2=parse_tuple(tree_tuple)\n"
      ],
      "metadata": {
        "colab": {
          "base_uri": "https://localhost:8080/"
        },
        "id": "9lQ05DTnFG6o",
        "outputId": "47d03350-6de1-4ba6-d19a-9b57392e34a8"
      },
      "execution_count": null,
      "outputs": [
        {
          "output_type": "stream",
          "name": "stdout",
          "text": [
            "(1, 3, None) <__main__.Tree object at 0x7f8901b1ba50> None\n",
            "(None, 3, 4) <__main__.Tree object at 0x7f8901b1b510> <__main__.Tree object at 0x7f8901b1b190>\n",
            "(6, 7, 8) <__main__.Tree object at 0x7f8904170c50> <__main__.Tree object at 0x7f8904170e90>\n",
            "(6, 7, 8) <__main__.Tree object at 0x7f89053ffe90> <__main__.Tree object at 0x7f89053ffcd0>\n",
            "((None, 3, 4), 5, (6, 7, 8)) <__main__.Tree object at 0x7f8904170c50> <__main__.Tree object at 0x7f8904170e90>\n",
            "(None, 3, 4) <__main__.Tree object at 0x7f8903b59690> <__main__.Tree object at 0x7f8903b59d10>\n",
            "(6, 7, 8) <__main__.Tree object at 0x7f8901b01450> <__main__.Tree object at 0x7f8901b01f90>\n",
            "(6, 7, 8) <__main__.Tree object at 0x7f8901b010d0> <__main__.Tree object at 0x7f8901b01050>\n",
            "((None, 3, 4), 5, (6, 7, 8)) <__main__.Tree object at 0x7f8901b01450> <__main__.Tree object at 0x7f8901b01f90>\n",
            "((1, 3, None), 2, ((None, 3, 4), 5, (6, 7, 8))) <__main__.Tree object at 0x7f89053ffa10> <__main__.Tree object at 0x7f8904170c50>\n"
          ]
        }
      ]
    },
    {
      "cell_type": "code",
      "source": [
        "\n",
        "def trasverse_in_order(node):\n",
        "  if node is None:\n",
        "    return []\n",
        "  return (trasverse_in_order(node.left)+[node.key]+trasverse_in_order(node.right))\n",
        "\n"
      ],
      "metadata": {
        "id": "FEb44eRjGM-F"
      },
      "execution_count": null,
      "outputs": []
    },
    {
      "cell_type": "code",
      "source": [
        "def trasverse_preorder(node):\n",
        "  if node is None:\n",
        "    return[]\n",
        "  return([node.key]+trasverse_preorder(node.left)+trasverse_preorder(node.right))"
      ],
      "metadata": {
        "id": "2ozhhp2Xluqc"
      },
      "execution_count": null,
      "outputs": []
    },
    {
      "cell_type": "code",
      "source": [
        "def trasverse_postorder(node):\n",
        "  if node is None:\n",
        "    return []\n",
        "  return (trasverse_postorder(node.left)+trasverse_postorder(node.right)+[node.key])"
      ],
      "metadata": {
        "id": "RmSbPI_QnZRm"
      },
      "execution_count": null,
      "outputs": []
    },
    {
      "cell_type": "code",
      "source": [
        "print(trasverse_in_order(tree2))\n",
        "print(trasverse_preorder(tree2))\n",
        "print(trasverse_postorder(tree2))\n"
      ],
      "metadata": {
        "colab": {
          "base_uri": "https://localhost:8080/"
        },
        "id": "eLWJ4E_pzPNT",
        "outputId": "27e0fa76-a400-492f-e6b9-4535e201b537"
      },
      "execution_count": null,
      "outputs": [
        {
          "output_type": "stream",
          "name": "stdout",
          "text": [
            "[1, 3, 2, 3, 4, 5, 6, 7, 8]\n",
            "[2, 3, 1, 5, 3, 4, 7, 6, 8]\n",
            "[1, 3, 4, 3, 6, 8, 7, 5, 2]\n"
          ]
        }
      ]
    },
    {
      "cell_type": "code",
      "source": [
        "def leftsearch(node,num):\n",
        "  if (node.key!=None,node.key==num):\n",
        "    return True\n",
        "  return leftsearch(node.left,num)\n",
        "def rightsearch(node,num):\n",
        "  if (node.key!=None,node.key==num):\n",
        "    return True\n",
        "  return rightsearch(node.right,num)\n",
        "def pres(node,num):\n",
        "  a=leftsearch(node,num)\n",
        "  b=rightsearch(node,num)\n",
        "  if a or b==True:\n",
        "    return \"present\"\n",
        "  else:\n",
        "     return False"
      ],
      "metadata": {
        "id": "TyiWdDr3ok3p"
      },
      "execution_count": null,
      "outputs": []
    },
    {
      "cell_type": "code",
      "source": [
        "pres(tree2,5)"
      ],
      "metadata": {
        "colab": {
          "base_uri": "https://localhost:8080/",
          "height": 35
        },
        "id": "HDdD3ZADpT_n",
        "outputId": "d04d0abb-6937-4233-81e4-bd15684a57ca"
      },
      "execution_count": null,
      "outputs": [
        {
          "output_type": "execute_result",
          "data": {
            "text/plain": [
              "'present'"
            ],
            "application/vnd.google.colaboratory.intrinsic+json": {
              "type": "string"
            }
          },
          "metadata": {},
          "execution_count": 105
        }
      ]
    },
    {
      "cell_type": "code",
      "source": [
        "a=[1, 3, 2, 3, 4, 5, 6, 7, 8,100]\n",
        "results=[]\n",
        "for i in a:\n",
        "  if(pres(tree2,i)==\"present\"):\n",
        "    results.append(True)\n",
        "  else:\n",
        "    results.append(False)\n",
        "print(results)"
      ],
      "metadata": {
        "colab": {
          "base_uri": "https://localhost:8080/"
        },
        "id": "bYfqGxK3sDpN",
        "outputId": "8fc50c66-3261-4f93-bc8b-9d706b2b57cf"
      },
      "execution_count": null,
      "outputs": [
        {
          "output_type": "stream",
          "name": "stdout",
          "text": [
            "[True, True, True, True, True, True, True, True, True, True]\n"
          ]
        }
      ]
    },
    {
      "cell_type": "code",
      "source": [
        "def height(right,left):\n",
        "  if node is None:\n",
        "    return []\n",
        "  return (1+ma(node.right,node.left))\n",
        "height()"
      ],
      "metadata": {
        "id": "p2j1eQfJybK0"
      },
      "execution_count": null,
      "outputs": []
    },
    {
      "cell_type": "code",
      "source": [
        "class Tree:\n",
        "  def __init__(self,key):\n",
        "    self.key=key\n",
        "    self.left=None\n",
        "    self.right=None\n",
        "  "
      ],
      "metadata": {
        "id": "BNmHif0Zr69l"
      },
      "execution_count": null,
      "outputs": []
    },
    {
      "cell_type": "code",
      "source": [
        "tree1=Tree(5)\n",
        "tree1.left=Tree(4)\n",
        "tree1.right=Tree(6)\n",
        "tree1.left.left=Tree(2)\n",
        "tree1.left.right=Tree(3)\n",
        "tree1.right.left=Tree(7)\n",
        "tree1.right.right=Tree(8)"
      ],
      "metadata": {
        "id": "POfjDa7LsHGX"
      },
      "execution_count": null,
      "outputs": []
    },
    {
      "cell_type": "code",
      "source": [
        "def trasverse_in_order(node):\n",
        "  if node is None:\n",
        "    return []\n",
        "  print(trasverse_in_order(node.left)+[node.key]+trasverse_in_order(node.right))\n",
        "  return(trasverse_in_order(node.left)+[node.key]+trasverse_in_order(node.right))"
      ],
      "metadata": {
        "id": "bPP2Ajuss1W_"
      },
      "execution_count": null,
      "outputs": []
    },
    {
      "cell_type": "code",
      "source": [
        "def preorder(node):\n",
        "  if node is None:\n",
        "    return []\n",
        "  return([node.key]+preorder(node.left)+preorder(node.right)\n"
      ],
      "metadata": {
        "id": "p7zX39OStaRt"
      },
      "execution_count": null,
      "outputs": []
    },
    {
      "cell_type": "code",
      "source": [
        "def postorder(node):\n",
        "  if node is None:\n",
        "    return []\n",
        "  return (postorder(node.left)+postorder(node.right)+[node.key])\n",
        "print(postorder(tree1))"
      ],
      "metadata": {
        "colab": {
          "base_uri": "https://localhost:8080/"
        },
        "id": "sASQqnn01bGf",
        "outputId": "c0931a00-feab-49f9-9328-b25e28d54af2"
      },
      "execution_count": null,
      "outputs": [
        {
          "output_type": "stream",
          "name": "stdout",
          "text": [
            "[2, 3, 4, 7, 8, 6, 5]\n"
          ]
        }
      ]
    }
  ]
}